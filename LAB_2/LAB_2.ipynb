{
 "cells": [
  {
   "cell_type": "markdown",
   "metadata": {},
   "source": [
    "<img src=\"img/usmlogo.png\" style=\"float:right;height:85px\"> <img src=\"img/dilogo.png\" style=\"float:left;height:90px\">\n",
    "<center>\n",
    "    <h1> Laboratorio 2 </h1>\n",
    "    <h2> Profesor: Ricardo Ñanculef y Francisco Mena </h2>\n",
    "    <h3> Ayudante: Jorge Ludueña </h3>\n",
    "    <h4> Alumno: Josué Venegas Almonacid; Rol: 201873534-5 </h4>\n",
    "    <h5> Video: https://youtu.be/fdEfXPFQWio</h5>\n",
    "</center>\n",
    "<p>\n",
    "<center><h4>2020-2</h4></center>\n",
    "</p>"
   ]
  },
  {
   "cell_type": "markdown",
   "metadata": {},
   "source": [
    "# Cadenas de Markov \n",
    "\n",
    "Las cadenas de markov son un modelo estocástico para describir una secuencia de sucesos donde la probabilidad de ir a un estado siguiente depende solamente del estado actual, esto se puede modelar de la siguiente forma:\n",
    "\n",
    "$$ S_{n+1} = S_{n}\\cdot P$$\n",
    "\n",
    "Donde $P$ se conoce como matriz NxN de transición donde cada posicion $(i,j)$ se tiene que $P(i,j) = P(\\text{estado }j|\\text{estado }i)$ y $S_{n}$ los vectores N-dimensional de estado ($S_{0}$ es conocida). Una cadena de markov se dice regular si su matriz de transición es regular, esto quiere decir que alguna potencia de $P$ tiene todas sus entradas positivas (para este caso 0 no es positivo).\n",
    "\n",
    "Si se tiene una cadena de markov regular, en algún momento de la secuencia se encontrará una matriz de estado tal que:\n",
    "\n",
    "$$ S_{f} \\cdot P = S_{f}$$ \n",
    "\n",
    "A este vector $S_{f}$ se le conoce como vector estacionario donde _f_ es el numero entero lo suficientemente grande para llegar al estado final.\n",
    "\n",
    "## Comida rápida\n",
    "\n",
    "Tres compañías de comida rápida están compitiendo por el primer lugar en la supremacía de comida rápida. \n",
    "\n",
    "* Si un cliente originalmente es fiel a \"Paimon's Snack\" tiene un $65\\%$ de probabilidad de quedarse fiel a esta, un $20\\%$ de cambiarse a \"Completos NP\" y un $15\\%$ de cambiarse a \"Little Pizza\".\n",
    "\n",
    "* Si un cliente originalmente es fiel a \"Completos NP\" tiene un $40\\%$ de probabilidad de quedarse fiel a esta, un $30\\%$ de cambiarse a \"Paimon's Snack\" y un $30\\%$ de cambiarse a \"Little Pizza\".\n",
    "\n",
    "* Si un cliente originalmente es fiel a \"Little Pizza\" tiene un $70\\%$ de probabilidad de quedarse fiel a esta, un $10\\%$ de cambiarse a \"Paimon's Snack\" y un $20\\%$ de cambiarse a \"Completos NP\".\n",
    "\n",
    "En un comienzo 200 clientes pertenecen a \"Paimon's Snack\", 180 a \"Completos NP\" y 20 a \"Little Pizza\"."
   ]
  },
  {
   "cell_type": "markdown",
   "metadata": {},
   "source": [
    ">a) Identifique la matriz de transición y el vector de estado inicial"
   ]
  },
  {
   "cell_type": "markdown",
   "metadata": {},
   "source": [
    "Podemos observar el enunciado a través de los siguientes gráficos:\n",
    "<img src=\"img/datos.png\" style=\"float:center;\"> "
   ]
  },
  {
   "cell_type": "code",
   "execution_count": 6,
   "metadata": {},
   "outputs": [
    {
     "name": "stdout",
     "output_type": "stream",
     "text": [
      "Matriz de transición: \n",
      "[[0.65 0.2  0.15]\n",
      " [0.3  0.4  0.3 ]\n",
      " [0.1  0.2  0.7 ]]\n",
      "\n",
      "Vector de estado inicial: [0.5  0.45 0.05]\n"
     ]
    }
   ],
   "source": [
    "import numpy as np\n",
    "matriz_transicion = np.array([\n",
    "    [0.65, 0.20 ,0.15],\n",
    "    [0.30, 0.40, 0.30],\n",
    "    [0.10, 0.20, 0.70]\n",
    "])\n",
    "vector_inicial = np.array([0.50, 0.45, 0.05])\n",
    "\n",
    "print(f\"Matriz de transición: \\n{matriz_transicion}\\n\")\n",
    "print(f\"Vector de estado inicial: {vector_inicial}\")"
   ]
  },
  {
   "cell_type": "markdown",
   "metadata": {},
   "source": [
    ">b) ¿Existirá la matriz estacionaria en este caso? Si su respuesta es sí, obténgala (en codigo).\n",
    "\n",
    "_Hint: Utilice un criterio decimal de aproximación_"
   ]
  },
  {
   "cell_type": "markdown",
   "metadata": {},
   "source": [
    "Para verificar si existe una matriz estacionaria, podemos iterar el proceso de multiplicar el vector de estado y la matriz de transición i-veces, con i un número muy grande. Luego, si el vector de estado resultante, al multiplicarlo una vez más con la matriz de transición, resulta en sí mismo, entonces la matriz estacionaria existe.\n",
    "\n",
    "$$ S_{f} \\cdot P = S_{f}$$ \n",
    "\n",
    "Otra opción para obtenerla es elevando la matriz de transición transpuesta i-veces, con i un número muy grande, y multiplicándolo con el vector de estado, como lo muestra la siguiente imagen:\n",
    "\n",
    "<img src=\"img/formula.png\" style=\"float:center;\"> \n",
    "\n",
    "Notar que (a,b,c) puede ser cualquier vector de estado que cumpla la condición de que a+b+c = 1"
   ]
  },
  {
   "cell_type": "code",
   "execution_count": 7,
   "metadata": {},
   "outputs": [
    {
     "name": "stdout",
     "output_type": "stream",
     "text": [
      "El vector estado luego de la primera iteración es: \n",
      "[0.465 0.29  0.245]\n",
      "\n",
      "El vector del estado i-ésimo es: \n",
      "[0.33333333 0.25       0.41666667]\n",
      "\n",
      "Al multiplicarlo con la matriz de transición se obtiene: \n",
      "[0.33333333 0.25       0.41666667]\n",
      "\n",
      "Matriz i-ésima: \n",
      " [[0.33333333 0.33333333 0.33333333]\n",
      " [0.25       0.25       0.25      ]\n",
      " [0.41666667 0.41666667 0.41666667]]\n",
      "\n",
      "Vector estado i-ésimo a través del método de la matriz transpuesta i-ésima: \n",
      "[0.33333333 0.25       0.41666667]\n",
      "\n"
     ]
    }
   ],
   "source": [
    "# Sí. Una forma de calcular la matriz estacionaria es obteniendo el i-ésimo vector de estado, con i muy grande\n",
    "\n",
    "#1 iteración\n",
    "vector_resultante = np.matmul(vector_inicial, matriz_transicion)\n",
    "print(f\"El vector estado luego de la primera iteración es: \\n{vector_resultante}\\n\")\n",
    "\n",
    "#100 iteraciones\n",
    "for i in range(100):\n",
    "    vector_resultante = np.matmul(vector_resultante, matriz_transicion)\n",
    "    \n",
    "#Luego, en caso de ser estacionaria, el vector de estado multiplicado por la matriz de transición debería resultar en el mismo vector estado\n",
    "print(f\"El vector del estado i-ésimo es: \\n{vector_resultante}\\n\")\n",
    "print(f\"Al multiplicarlo con la matriz de transición se obtiene: \\n{np.matmul(vector_resultante, matriz_transicion)}\\n\")\n",
    "\n",
    "#También se puede comprobar elevando la matriz transpuesta a un número grande y multiplicándolo por un vector estado cualquiera (cuyos valores sumen 1)\n",
    "#de acuerdo a la figura presentada\n",
    "from numpy.linalg import matrix_power\n",
    "\n",
    "transpuesta = np.transpose(matriz_transicion)\n",
    "transpuesta_i = matrix_power(transpuesta, 100)\n",
    "vector_estado_i = np.matmul(transpuesta_i, vector_inicial)\n",
    "\n",
    "print(f\"Matriz i-ésima: \\n {transpuesta_i}\\n\")\n",
    "print(f\"Vector estado i-ésimo a través del método de la matriz transpuesta i-ésima: \\n{vector_estado_i}\\n\")\n",
    "\n",
    "#Por lo que el vector estacionario es [0.33333333 0.25 0.41666667]"
   ]
  },
  {
   "cell_type": "markdown",
   "metadata": {},
   "source": [
    ">c) Después de pasado mucho tiempo. ¿Quién tendrá una mayor cantidad de clientes? Asuma que la matriz de transición será válida por todo este periodo arbitrario de tiempo y no llegarán ni saldrán más clientes del mundo de comida rápida. **No realice esta simulación como una multiplicación de matrices**, use las probabilidades y las cantidades dadas. Compare con b) "
   ]
  },
  {
   "cell_type": "markdown",
   "metadata": {},
   "source": [
    "Podemos calcular la probabilidad de la primera iteración en base a un árbol de decisiones:\n",
    "\n",
    "<img src=\"img/arbol.png\" style=\"float:center;\"> \n",
    "\n",
    "Sin embargo si queremos obtener la probabilidad después de mucho tiempo, debemos resolver el sistema de ecuaciones siguiente:\n",
    "\n",
    "<img src=\"img/sistema.png\" style=\"float:center;\"> "
   ]
  },
  {
   "cell_type": "code",
   "execution_count": 14,
   "metadata": {},
   "outputs": [
    {
     "name": "stdout",
     "output_type": "stream",
     "text": [
      "Primera iteración: \n",
      " [0.465 0.29  0.245]\n",
      "\n",
      "Matriz transición: \n",
      " [[0.65 0.2  0.15]\n",
      " [0.3  0.4  0.3 ]\n",
      " [0.1  0.2  0.7 ]]\n",
      "\n",
      "Vector estado inicial: \n",
      " [0.5  0.45 0.05]\n",
      "\n",
      "Matriz A: \n",
      " [[-0.35  0.3   0.1 ]\n",
      " [ 0.2  -0.6   0.2 ]\n",
      " [ 1.    1.    1.  ]]\n",
      "\n",
      "Vector B: \n",
      " [0 0 1]\n",
      "\n",
      "Solución:\n",
      " [0.33333333 0.25       0.41666667]\n"
     ]
    }
   ],
   "source": [
    "# La probabilidad de que los clientes prefieran a PS, CNP, LP será la suma de todas las probabilidades correspondientes:\n",
    "\n",
    "#1 iteración\n",
    "probabilidad_pc = (0.50*0.65)+(0.45*0.30)+(0.05*0.10)\n",
    "probabilidad_cnp = (0.45*0.40)+(0.50*0.20)+(0.05*0.20)\n",
    "probabilidad_lp = (0.05*0.70)+(0.50*0.15)+(0.45*0.30)\n",
    "primera_iteracion = np.array([probabilidad_pc, probabilidad_cnp, probabilidad_lp])\n",
    "print(f\"Primera iteración: \\n {primera_iteracion}\")\n",
    "\n",
    "#Muchas iteraciones\n",
    "#Para calcular la probabilidad después de mucho tiempo, tendremos que resolver el sistema lineal Ax = B donde A es la matriz cuadrada\n",
    "#conformada por las las primeras dos filas de la matriz de transición y la tercera es la condición de que la suma de los elementos del vector\n",
    "#estado inicial es 1\n",
    "\n",
    "#Matriz transición:\n",
    "#0,65x + 0,3y + 0,1z = x\n",
    "#0,2x + 0,4y + 0,2z = y\n",
    "#0,1x +0,2y + 0,7z = z\n",
    "\n",
    "#Matriz A:\n",
    "#-0,35x + 0,3y + 0,1z = 0\n",
    "#0,2x + -0,6y + 0,2z = 0\n",
    "#x + y + z = 1\n",
    "\n",
    "print(\"\\nMatriz transición: \\n\", matriz_transicion)\n",
    "print(\"\\nVector estado inicial: \\n\", vector_inicial)\n",
    "\n",
    "canonica = np.array([[1,0,0], [0,1,0], [0,0,1]])\n",
    "matriz_A = np.subtract(transpuesta, canonica)\n",
    "matriz_A[2:] = [1,1,1]\n",
    "print(\"\\nMatriz A: \\n\", matriz_A)\n",
    "\n",
    "vector_B = np.array([0,0,1])\n",
    "print(\"\\nVector B: \\n\", vector_B)\n",
    "\n",
    "solucion = np.linalg.solve(matriz_A, vector_B)\n",
    "print(\"\\nSolución:\\n\", solucion)\n",
    "\n",
    "#Obtenemos el mismo resultado que en b), es decir, el vector [0.33333333 0.25 0.41666667]\n",
    "#Little Pizza tendrá la mayor cantidad de clientes (el 41,7% = 167 personas)"
   ]
  },
  {
   "cell_type": "markdown",
   "metadata": {},
   "source": [
    "# Reglas del juego"
   ]
  },
  {
   "cell_type": "markdown",
   "metadata": {},
   "source": [
    "- **Anote todas las supociciones que considere**\n",
    "- El laboratorio es OPCIONAL se realiza de manera INDIVIDUAL y debe ser entregado en jupyter notebook utilizando Python3.\n",
    "- Se debe subir un video con la explicacion del experimento (no solo de los resultados) en alguna plataforma de video y adjuntarlo el link al comienzo de este archivo, el cual debe ser entregado en Aula a mas tardar el sabado 3 de Octubre.\n",
    "- Para obtener el bono debe obtener una nota mayor 54.\n",
    "- Se responderán dudas solamente vía Aula.\n",
    "- No se aceptaran laboratorios entregados fuera de plazo.\n",
    "\n",
    "Si desea profundizar más:\n",
    "- [MC 1](https://www.youtube.com/watch?v=uvYTGEZQTEs)\n",
    "- [MC 2](https://www.youtube.com/watch?v=jtHBfLtMq4U)\n",
    "- [MC 3](https://www.youtube.com/watch?v=P8DuuiINAo4&t)\n",
    "- [MC 4](https://www.youtube.com/watch?v=31X-M4okAI0)\n",
    "- [MC 5](https://www.youtube.com/watch?v=-kwnnNSGFMc)"
   ]
  }
 ],
 "metadata": {
  "kernelspec": {
   "display_name": "Python 3",
   "language": "python",
   "name": "python3"
  },
  "language_info": {
   "codemirror_mode": {
    "name": "ipython",
    "version": 3
   },
   "file_extension": ".py",
   "mimetype": "text/x-python",
   "name": "python",
   "nbconvert_exporter": "python",
   "pygments_lexer": "ipython3",
   "version": "3.8.3"
  }
 },
 "nbformat": 4,
 "nbformat_minor": 4
}
