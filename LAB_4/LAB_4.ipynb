{
 "cells": [
  {
   "cell_type": "markdown",
   "metadata": {},
   "source": [
    "<img src=\"img/usmlogo.png\" style=\"float:right;height:85px\"> <img src=\"img/dilogo.png\" style=\"float:left;height:90px\">\n",
    "<center>\n",
    "    <h1> Tarea opcional </h1>\n",
    "    <h2> Profesor: Ricardo Ñanculef y Francisco Mena </h2>\n",
    "    <h3> Ayudante: Jorge Ludueña </h3>\n",
    "    <h4> Alumno: Josué Venegas Almonacid; Rol: 201873534-5 </h4>\n",
    "    <h5> Video: https://youtu.be/ESCYyvjggdQ </h5>\n",
    "</center>\n",
    "<p>\n",
    "<center><h4>2020-2</h4></center>\n",
    "</p>"
   ]
  },
  {
   "cell_type": "markdown",
   "metadata": {},
   "source": [
    "# Marcar y recuperar\n",
    "\n",
    "Marcar y recuperar es un método comúnmente usado en ecología para **estimar el tamaño de una población** animal donde no es práctico contar a cada individuo. Una parte de la población es capturada, marcada y liberada. Posteriormente, se capturará otra porción y se contará el número de individuos marcados dentro de la muestra. Dado que el número de individuos marcados dentro de la segunda muestra debe ser **proporcional** al número de individuos marcados en toda la población, se puede obtener una estimación del tamaño total de la población dividiendo el número de individuos marcados encontrados por la proporción de individuos marcados en la segunda muestra.\n",
    "\n",
    "## Método de Petersen\n",
    "\n",
    "El método Lincoln-Petersen se puede utilizar para estimar el tamaño de la población si solo se realizan dos visitas al área de estudio. Este método asume que:\n",
    "- Todos los individuos dentro de una misma población tienen la misma probabilidad de ser capturados. No hay ninguno que sea más propenso a caer en las trampas o que las eluda con mayor probabilidad.\n",
    "- La proporción de animales marcados respecto de los no marcados se mantiene constante a lo largo del tiempo desde el momento de la captura hasta el momento de la recaptura.\n",
    "- Los individuos marcados, una vez liberados, se redistribuyen de manera homogénea entre la población de individuos no marcados, de la misma manera que lo estaban antes de ser capturados.\n",
    "- Los animales marcados no pierden sus marcas.\n",
    "- La población es cerrada. Es decir, durante el periodo de muestreo no se dan fenómenos de emigración o inmigración.\n",
    "\n",
    "Dadas esas condiciones, el tamaño de población estimado es:\n",
    "\n",
    "$$\\hat {N}= \\frac{n \\cdot m}{k}$$\n",
    "\n",
    "Donde:  \n",
    "n = Número de animales marcados en la primera visita  \n",
    "m = Número de animales capturados en la segunda visita  \n",
    "k = Número de animales recapturados (es decir, capturados en la segunda visita y que estaban marcados de la primera visita)"
   ]
  },
  {
   "cell_type": "markdown",
   "metadata": {},
   "source": [
    "## La loica de pecho colorado\n",
    "\n",
    "La *“Loica de pecho colorado”* o *Leistes loyca* es una especie de ave paseriforme de la familia *Icteridae*, propia del cono sur americano. Suponga que se necesita estimar la cantidad de ejemplares de este animal (N) presentes en un parque del sur de Chile. Para ello, se capturan n = 50 loicas y se marcan insertando un pequeño anillo en su pata derecha. Algunos días más tarde, se capturan m = 100 loicas y se encuentra que k = 10 están marcadas. Asumiendo que las aves se distribuyen de manera uniforme en el parque y que la población se ha mantenido invariante:"
   ]
  },
  {
   "cell_type": "markdown",
   "metadata": {},
   "source": [
    "(a) Demuestre experimentalmente que el estimador de momentos  \n",
    "\n",
    "$$\\hat N = \\frac {n \\cdot m}{k}$$  \n",
    "\n",
    "es el estimador máximo verosímil de N. Para ello, grafique la función de verosimilitud como función de N y verifique que se obtiene un máximo en  \n",
    "\n",
    "$$N = \\frac{n \\cdot m}{k}$$"
   ]
  },
  {
   "cell_type": "markdown",
   "metadata": {},
   "source": [
    "**Respuesta**:  Vemos que n y m son determinados por el experimento, mientras que k es una observación que puede variar.\n",
    "\n",
    "La función verosimilitud de N es la distribución geométrica:  \n",
    "\n",
    "$$ L(N|k) = \\frac { {n \\choose k} {N-n \\choose m-k} } { {N \\choose m} } $$\n",
    "\n",
    "Donde:  \n",
    "n = Número de animales marcados en la primera visita  \n",
    "m = Número de animales capturados en la segunda visita  \n",
    "k = Número de animales recapturados (que fueron marcados en la primera visita)  \n",
    "N = Población total"
   ]
  },
  {
   "cell_type": "code",
   "execution_count": 143,
   "metadata": {},
   "outputs": [
    {
     "name": "stdout",
     "output_type": "stream",
     "text": [
      "Población estimada = 500\n"
     ]
    },
    {
     "data": {
      "image/png": "[encoded data removed]",
      "text/plain": [
       "<Figure size 432x288 with 1 Axes>"
      ]
     },
     "metadata": {
      "needs_background": "light"
     },
     "output_type": "display_data"
    },
    {
     "name": "stdout",
     "output_type": "stream",
     "text": [
      "Máximo obtenido = 0.147\n",
      "Con N = 500\n"
     ]
    }
   ],
   "source": [
    "import numpy as np\n",
    "import math\n",
    "import matplotlib.pyplot as plt\n",
    "\n",
    "# Estimamos la población\n",
    "n = 50\n",
    "m = 100\n",
    "k = 10\n",
    "\n",
    "N_est = int(n*m/k)\n",
    "print(\"Población estimada =\", N_est)\n",
    "\n",
    "# Calculamos el valor según la función de verosimilitud\n",
    "# Intervalo x, con la población estimada perteneciente a él\n",
    "valores = np.arange(N_est-100, N_est+100)\n",
    "# Valores f(x)\n",
    "imagenes = []\n",
    "#Guardaremos el máximo y su posición para compararlo con la población estimada anteriormente\n",
    "max = -1\n",
    "pos = 0\n",
    "\n",
    "#Por cada x, calculo su f(x)\n",
    "for N in valores:\n",
    "    num1 = math.comb(n, k)\n",
    "    num2 = math.comb(N-n, m-k)\n",
    "    num3 = math.comb(N, m)\n",
    "    f = num1*num2/num3\n",
    "    #Lo agrego a la lista de imágenes\n",
    "    imagenes.append(f)\n",
    "    \n",
    "    #Guardo el mayor y su N asociado\n",
    "    if f>max:\n",
    "        max = f\n",
    "        pos = N+1\n",
    "\n",
    "plt.plot(valores, imagenes)\n",
    "plt.xlabel(\"N\")\n",
    "plt.ylabel(\"L(N|k)\")\n",
    "plt.show()\n",
    "\n",
    "#Comprobamos que N es máximo con N =nm/k\n",
    "print(f\"Máximo obtenido = {round(max,3)}\\nCon N = {pos}\")"
   ]
  },
  {
   "cell_type": "markdown",
   "metadata": {},
   "source": [
    "(b) Fije N = 550, n = 50 y m = 100. Simule el proceso de marcado y recaptura, calculando el valor de k en cada simulación, es decir contando cuántas de las m loicas capturadas la segunda vez están marcadas. Junto con k, calcule también el valor de $\\hat N$ obtenido en cada simulación. Finalmente, use los valores empíricos de $\\hat N$  para estimar la distribución de muestreo del estimador (haga el gráfico)."
   ]
  },
  {
   "cell_type": "code",
   "execution_count": 244,
   "metadata": {},
   "outputs": [
    {
     "data": {
      "image/png": "[encoded data removed]",
      "text/plain": [
       "<Figure size 432x288 with 1 Axes>"
      ]
     },
     "metadata": {
      "needs_background": "light"
     },
     "output_type": "display_data"
    }
   ],
   "source": [
    "import random\n",
    "import numpy as np\n",
    "import matplotlib.pyplot as plt\n",
    "import statistics\n",
    "\n",
    "def simular(historial_recapturados, historial_estimaciones):    \n",
    "    #Parámetros\n",
    "    #N: población total\n",
    "    #n: marcados en primera visita\n",
    "    #m: capturados en segunda visita\n",
    "    [N, n, m] = [550, 50, 100]\n",
    "\n",
    "    #k: recapturados (capturados en segunda visita que ya estaban marcados de la primera)\n",
    "    k = 0\n",
    "\n",
    "    #Muestra vacía\n",
    "    birds = []\n",
    "    elegidos = []\n",
    "\n",
    "    #Primera visita: Marco n aves\n",
    "    for i in range(n):\n",
    "        birds.append(1)\n",
    "\n",
    "    #Dejo sin marcar N-n aves. De esta forma tengo N ejemplares\n",
    "    for i in range(N-n):\n",
    "        birds.append(0)\n",
    "\n",
    "    #Segunda visita: De los N ejemplares, selecciono m\n",
    "    for i in range(m):\n",
    "        posicion = random.randint(0, N-1)\n",
    "        #Me aseguro de no seleccionar repetidos\n",
    "        while (posicion in elegidos):\n",
    "            posicion = random.randint(0, N-1)\n",
    "        #Lo guardo en una lista para no volver a seleccionarlo\n",
    "        elegidos.append(posicion)\n",
    "        #Anoto si estaba marcado\n",
    "        k += birds[posicion]\n",
    "\n",
    "    #Calculo la estimación de esta simulación\n",
    "    Nest = int(n*m/k)\n",
    "    #Agrego la cantidad de aves recapturadas de esta simulación y su estimación de población correspondiente\n",
    "    historial_recapturados.append(k)\n",
    "    historial_estimaciones.append(Nest)\n",
    "\n",
    "    \n",
    "#Historiales vacíos\n",
    "historial_recapturados = []\n",
    "historial_estimaciones = []\n",
    "\n",
    "#Hago la simulación 500 veces\n",
    "for i in range(500):\n",
    "    simular(historial_recapturados, historial_estimaciones)\n",
    "\n",
    "#Histograma\n",
    "cuenta, cajas, ignorar = plt.hist(historial_estimaciones)\n",
    "plt.ylabel('frequencia')\n",
    "plt.xlabel('valores')\n",
    "plt.title('Histograma')\n",
    "plt.show()"
   ]
  },
  {
   "cell_type": "markdown",
   "metadata": {},
   "source": [
    "(c) Use su simulación para estimar el sesgo y la varianza de $\\hat N$"
   ]
  },
  {
   "cell_type": "code",
   "execution_count": 235,
   "metadata": {},
   "outputs": [
    {
     "name": "stdout",
     "output_type": "stream",
     "text": [
      "Varianza: 44446.95\n",
      "Valor esperado: 9.09\n",
      "Media: 607.766\n"
     ]
    }
   ],
   "source": [
    "import statistics\n",
    "varianza = round(statistics.variance(historial_estimaciones), 2)\n",
    "print(\"Varianza:\", varianza)\n",
    "\n",
    "esperanza = round(m*n/N, 2)\n",
    "print(\"Valor esperado:\", esperanza)\n",
    "\n",
    "media = statistics.mean(historial_estimaciones)\n",
    "print(\"Media:\", media)"
   ]
  },
  {
   "cell_type": "markdown",
   "metadata": {},
   "source": [
    "## Referencias\n",
    "\n",
    "1. Wikipedia. (s. f.). Marcar y recuperar. Wikipedia, la enciclopedia libre. Recuperado 6 de diciembre de 2020, de https://es.wikipedia.org/wiki/Marcar_y_recuperar\n",
    "2. Aplicaciones de la probabilidad discreta uniforme. (s. f.). Intranet - Universidad de Antofagasta. Recuperado 6 de diciembre de 2020, de https://intranetua.uantof.cl/facultades/csbasicas/Matematicas/academicos/emartinez/Estadistica/mt435/lincoln/index.html\n",
    "3. Fernández, J. L., & Fernández, P. (s. f.). Notas de Estadística I, Capítulo 5. Departamento de Matemáticas UAM. http://verso.mat.uam.es/~pablo.fernandez/5-estimacion-parte1-curso17-18.pdf\n",
    "4. Ortiz, M. T. (s. f.). 9.1 Máxima verosimilitud. Estadística Computacional. https://tereom.github.io/est-computacional-2018/maxima-verosimilitud.html\n",
    "5. Watkins, J. C. (2011, 1 noviembre). Topic 15: Maximum Likelihood Estimation. Math Arizona. https://www.math.arizona.edu/~jwatkins/o-mle.pdf\n",
    "6. Barbero, M. P. (2017). Muestreo de captura-recaptura: Diseño, estimación y análisis de librerías en R. Universidad de Sevilla. https://idus.us.es/bitstream/handle/11441/77574/Pozo%20Barbero%20Manuel%20TFG.pdf?sequence=1&isAllowed=y"
   ]
  }
 ],
 "metadata": {
  "kernelspec": {
   "display_name": "Python 3",
   "language": "python",
   "name": "python3"
  },
  "language_info": {
   "codemirror_mode": {
    "name": "ipython",
    "version": 3
   },
   "file_extension": ".py",
   "mimetype": "text/x-python",
   "name": "python",
   "nbconvert_exporter": "python",
   "pygments_lexer": "ipython3",
   "version": "3.8.3"
  }
 },
 "nbformat": 4,
 "nbformat_minor": 4
}
