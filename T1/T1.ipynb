{
 "cells": [
  {
   "cell_type": "markdown",
   "metadata": {
    "colab_type": "text",
    "id": "AWL-lBM1NP7G"
   },
   "source": [
    "<img src=\"http://www.exalumnos.usm.cl/wp-content/uploads/2015/06/Isotipo-Negro.gif\" title=\"Title text\" width=\"20%\" height=\"20%\" />\n",
    "\n",
    "\n",
    "<hr style=\"height:2px;border:none\"/>\n",
    "<h1 align='center'> INF-280 Estadística Computacional I-2020 </h1>\n",
    "\n",
    "<H3 align='center'> Tema 1 - Análisis Exploratorio de Datos  </H3>\n",
    "<hr style=\"height:2px;border:none\"/>\n",
    "\n",
    "### **Formalidades**  \n",
    "* Por favor trabaje individualmente. Es posible utilizar apuntes, libros, papers, ejemplos y cualquier otro material que desee de internet, pero debe ser usted quien desarrolle los ejercicios y comente los resultados en el notebook que entregará. Compórtese como si estuviese haciendo un certámen tradicional con acceso a apuntes.\n",
    "* Puede utilizar Python o R. En ambos casos, no puede usar funciones estadísticas específicas, excepto aquellas correspondientes al cálculo de medidas de tendencia ó dispersión (media, desviación estándar, etc) y aquellas correspondientes al cálculo de probabilidades y percentiles sobre las distribuciones revisadas en clases (pnorm, qnorm, pt, qt), etc.\n",
    "* Además del notebook, debe entregar un video explicando lo que hizo, paso a paso, como en los ejemplos entregados en AULA. El video puede ser subido a plataforma como GitHub, Youtube, Google Drive, ó Dropbox.\n",
    "\n",
    "### **Entrega**\n",
    "* **Formato**: Sus respuestas deben ser entregadas en forma de Jupyter notebook en conjunto con un video explicativo de 10 a 20 minutos\n",
    "* **Plataforma**: subir a la entrega en **Aula** (para el vídeo se aconseja subir un link a plataforma auxiliar como Drive/Dropbox/Youtube). \n",
    "* **Fecha límite**: Viernes 11 Septiembre a las 23:59.\n",
    "\n",
    "<hr style=\"height:2px;border:none\"/>\n",
    "\n"
   ]
  },
  {
   "cell_type": "markdown",
   "metadata": {},
   "source": [
    "* Estudiante: Josué Venegas Almonacid\n",
    "* ROL: 201873534-5\n",
    "* Video: https://youtu.be/leEuUIpVVUI\n",
    "* Consideraciones: Por problemas con el comando wget, importé los documentos con pandas, por lo que para que el programa funcione sin problemas, se deben guardar los documentos de las muestras en la misma carpeta que el notebook"
   ]
  },
  {
   "cell_type": "markdown",
   "metadata": {
    "colab_type": "text",
    "id": "VzAzPpc5NP9R"
   },
   "source": [
    "## Enunciado\n",
    "\n",
    "Se está estudiando el desempeño productivo de una cierta maquinaria cada vez que es utilizada por una cierta empresa. En particular, se está estudiando y comparando tres diferentes condiciones $C$ sobre las cuales, la maquinaria se comporta de diferente manera. Para esta actividad usted tendrá disponibles datos, correspondiente a una muestra finita sobre cada una de las condiciones ($C_1, C_2, C_3$), indicando la medición del desempeño productivo (mayor indica un mejor desempeño).\n",
    "\n",
    "Como información adicional se comenta lo siguiente: un desempeño aceptable, donde la maquinaria funciona de manera adecuada sin generar pérdidas a la empresa, corresponde a un valor cercano a 5. Mientras que un valor menor a 2 es un desempeño inaceptable que podría generar pérdidas a la empresa. Por otro lado, un valor mayor a 15 corresponde a un funcionamiento excelente que podría ayudar a acelerar la productividad y ahorrar dinero.\n",
    "\n",
    "\n",
    "Los datos pueden ser descargados a través del siguiente link: __[muestraC1](https://raw.githubusercontent.com/FMena14/ML_usm/master/Estadisticia/data_T1/Muestra_C1.txt)__, __[muestraC2](https://raw.githubusercontent.com/FMena14/ML_usm/master/Estadisticia/data_T1/Muestra_C2.txt)__, __[muestraC3](https://raw.githubusercontent.com/FMena14/ML_usm/master/Estadisticia/data_T1/Muestra_C3.txt)__. Cada fila corresponde a un dato de la muestra.\n",
    "*Para descargar directamente en Jupyter puede ejecutar*\n",
    "```\n",
    "!wget https://raw.githubusercontent.com/FMena14/ML_usm/master/Estadisticia/data_T1/Muestra_C1.txt\n",
    "!wget https://raw.githubusercontent.com/FMena14/ML_usm/master/Estadisticia/data_T1/Muestra_C2.txt\n",
    "!wget https://raw.githubusercontent.com/FMena14/ML_usm/master/Estadisticia/data_T1/Muestra_C3.txt\n",
    "```\n",
    "\n",
    "### Actividades\n",
    "*Para los análisis cuantitativos recuerde utilizar una precisión decimal más que los datos*.\n",
    "\n",
    "> a) [5 pts] Describa la población del fenómeno aleatorio de estudio, la variable asociada y las muestras a trabajar ¿Cuántos datos tiene cada muestra?\n",
    "\n",
    "> b) [10 pts] Compare el desempeño sobre cada condición a través de los puntos centrales de tendencia (media y mediana) Comente con la información entregada en el enunciado acerca de los desempeños *aceptable*  ¿Qué información aporta el sesgo de los datos?\n",
    "\n",
    "> c) [25 pts] Grafique el boxplot de cada muestra/condición y compare ¿Existe evidencia suficiente para concluir que la condición $C_3$ es mejor que las otras dos condiciones? Añada la información que se entregó sobre los desempeños inaceptables, aceptables y excelentes, ¿Qué se puede comentar al respecto de las condiciones?\n",
    "\n",
    "> d) [15 pts] Analice  la dispersión de cada muestra/condición a través de la raiz cuadrada del promedio de las desviaciones cuadráticas respecto a $b$: $ \\sqrt{\\frac{1}{n} \\sum_{i=1}^n (x_i -b)^2 } $. Utilice tres valores diferentes para $b$, por ejemplo las medidas de tendencia y/o valores relevantes del problema ¿Qué indica lo observado? Compare con lo analizado en c)\n",
    "\n",
    "> e) [20 pts] En base a toda la información recolectada hasta este punto (medidas de tendencia, variabilidad y gráficos) ¿Cuál condición $C$ le recomendaría a la empresa utilizar? ¿Por qué? Apoye su elección en base a los tipos de desempeño.\n",
    "\n",
    "> f) [15 pts] Realice un histograma, bajo diferentes valores de K (*bins*), de la muestra correspondiente a la condición escogida en el punto anterior. Apoye los análisis ya realizados hasta este punto con esta representación visual más detallada ¿Qué efecto produce y aporta al análisis la variación de *K*? Compare con el método de raiz y Sturges.\n",
    "\n",
    "> g) [10 pts] Suponga que ahora llegan nuevos datos e información acerca de la condición $C_2$ y su muestra correspondiente, esto corresponde a 100 valores con un desempeño productivo menor a 2. ¿Qué indica esto acerca de la condición $C_2$, de su muestreo y de las conclusiones realizadas sobre esta condición?\n"
   ]
  },
  {
   "cell_type": "code",
   "execution_count": 1,
   "metadata": {},
   "outputs": [
    {
     "name": "stdout",
     "output_type": "stream",
     "text": [
      "La muestra C1 tiene 150 datos\n",
      "La muestra C2 tiene 200 datos\n",
      "La muestra C3 tiene 133 datos\n"
     ]
    }
   ],
   "source": [
    "#a) Población: Maquinaria de una empresa\n",
    "#    Muestra: Subconjunto finito de la maquinaria de la empresa\n",
    "#    Variable asociada: Desempeño productivo de las maquinarias\n",
    "        \n",
    "#Se importan librerias para cargar los archivos\n",
    "import pandas as pd\n",
    "\n",
    "muestraC1 = pd.read_csv(\"Muestra_C1.txt\", header=None)\n",
    "print(f\"La muestra C1 tiene {muestraC1.shape[0]} datos\")\n",
    "\n",
    "muestraC2 = pd.read_csv(\"Muestra_C2.txt\", header=None)\n",
    "print(f\"La muestra C2 tiene {muestraC2.shape[0]} datos\")\n",
    "\n",
    "muestraC3 = pd.read_csv(\"Muestra_C3.txt\", header=None)\n",
    "print(f\"La muestra C3 tiene {muestraC3.shape[0]} datos\")"
   ]
  },
  {
   "cell_type": "code",
   "execution_count": 2,
   "metadata": {},
   "outputs": [
    {
     "name": "stdout",
     "output_type": "stream",
     "text": [
      "La media de la muestra C1 es 7.1745\n",
      "La media de la muestra C2 es 5.0152\n",
      "La media de la muestra C3 es 7.3598\n",
      "\n",
      "La mediana de la muestra C1 es 5.484\n",
      "La mediana de la muestra C2 es 4.999\n",
      "La mediana de la muestra C3 es 7.756\n",
      "\n",
      "El sesgo de la muestra C1 es 1.6905\n",
      "El sesgo de la muestra C2 es 0.0162\n",
      "El sesgo de la muestra C3 es -0.3962\n"
     ]
    }
   ],
   "source": [
    "#b)\n",
    "    \n",
    "#Se importan librerias para calcular lo solicitado\n",
    "from numpy import mean, median\n",
    "\n",
    "mediaC1 = round(float(mean(muestraC1)),4)\n",
    "mediaC2 = round(float(mean(muestraC2)),4)\n",
    "mediaC3 = round(float(mean(muestraC3)),4)\n",
    "\n",
    "medianaC1 = round(float(median(muestraC1)),4)\n",
    "medianaC2 = round(float(median(muestraC2)),4)\n",
    "medianaC3 = round(float(median(muestraC3)),4)\n",
    "\n",
    "sesgoC1 = round(float(mediaC1 - medianaC1),4)\n",
    "sesgoC2 =  round(float(mediaC2 - medianaC2),4)\n",
    "sesgoC3 =  round(float(mediaC3 - medianaC3),4)\n",
    "\n",
    "#Se calcula lo solicitado\n",
    "print(f\"La media de la muestra C1 es {mediaC1}\")\n",
    "print(f\"La media de la muestra C2 es {mediaC2}\")\n",
    "print(f\"La media de la muestra C3 es {mediaC3}\\n\")\n",
    "\n",
    "\n",
    "print(f\"La mediana de la muestra C1 es {medianaC1}\")\n",
    "print(f\"La mediana de la muestra C2 es {medianaC2}\")\n",
    "print(f\"La mediana de la muestra C3 es {medianaC3}\\n\")\n",
    "\n",
    "print(f\"El sesgo de la muestra C1 es {sesgoC1}\")\n",
    "print(f\"El sesgo de la muestra C2 es {sesgoC2}\")\n",
    "print(f\"El sesgo de la muestra C3 es {sesgoC3}\")\n",
    "\n",
    "\n",
    "#Comente con la información entregada en el enunciado acerca de los desempeños aceptable ¿Qué información aporta el sesgo de los datos?\n",
    "#Podemos observar que el orden descendente de las medias son C3, C1, C2, lo que mostraría un mejor desempeño de la maquinaria bajo la tercera condición. Con la mediana \n",
    "#sucede lo mismo, y como la mediana es robusta podemos inferir que los valores obtenidos en la media no fueron ocasionado por la incidencia accidental de valores extremos, \n",
    "#dándonos más certeza de los resultados. El sesgo nos permite validar o rechazar los datos recién analizados, puesto que valores muy extremos nos dan indicios de una \n",
    "#probabilidad imposible. En este caso, aunque su sesgo es negativo, (lo que quiere decir que los resultados no son tan fiables), es muy cercano a 0"
   ]
  },
  {
   "cell_type": "code",
   "execution_count": 3,
   "metadata": {},
   "outputs": [
    {
     "data": {
      "image/png": "[encoded data removed]",
      "text/plain": [
       "<Figure size 720x720 with 1 Axes>"
      ]
     },
     "metadata": {
      "needs_background": "light"
     },
     "output_type": "display_data"
    }
   ],
   "source": [
    "#c)\n",
    "\n",
    "#Se importa librería para poder graficar\n",
    "import matplotlib.pyplot as plt\n",
    "\n",
    "#Se redimensiona el gráfico para que se vea mejor\n",
    "fig = plt.figure(figsize=(10,10))\n",
    "\n",
    "#Se preparan los boxplot con la muestras C1, C2 y C3\n",
    "plt.boxplot([muestraC1[0], muestraC2[0], muestraC3[0]])\n",
    "\n",
    "#Se agregan los rótulos correspondientes\n",
    "plt.xticks([1,2, 3],[\"C1\", \"C2\", \"C3\"])\n",
    "\n",
    "#Se dibujan las líneas y1 = 2, y2 = 5, y3 = 15, para separar los datos inaceptables, aceptables y excelentes\n",
    "plt.hlines(2, 0, 3, label=\"Inaceptable\", colors='r')\n",
    "plt.hlines(5, 0, 3, label=\"Aceptable\", colors='g')\n",
    "plt.hlines(15, 0, 3, label=\"Excelente\", colors='gold')\n",
    "\n",
    "plt.show()\n",
    "\n",
    "\n",
    "#¿Existe evidencia suficiente para concluir que la condición  𝐶3  es mejor que las otras dos condiciones?\n",
    "#C1 tiene datos muy extremos (outliers) y parte de su distribución está cercana a un desempeño inaceptable. Por su parte C2 posee una buena distribución\n",
    "#de datos, y pocos valores extremos, pero su desempeño se mantiene en lo aceptable. En cambio C3, tiene una buena distribución en la muestra, toda su caja está sobre el nivel \n",
    "#aceptable y menos sobrepuesta que el resto, incluso en sus valores más bajos, por lo que se puede concluir que es mejor que las otras dos condiciones\n",
    "\n",
    "#¿Qué se puede comentar al respecto de las condiciones?\n",
    "#En general con las 3 condiciones podemos observar que rondan los parametros aceptables de desempeño, sin embargo las cajas C1 y C2 están sobrepuestas, por lo\n",
    "#que se observa una diferencia menos significativa en los resultados"
   ]
  },
  {
   "cell_type": "code",
   "execution_count": 4,
   "metadata": {},
   "outputs": [
    {
     "name": "stdout",
     "output_type": "stream",
     "text": [
      "b1 = media_muestral\n",
      "La dispersión de la muestra C1 es 5.2703\n",
      "La dispersión de la muestra C2 es 1.7786\n",
      "La dispersión de la muestra C3 es 3.5485\n",
      "\n",
      "b2 = mediana_muestral\n",
      "La dispersión de la muestra C1 es 5.5365\n",
      "La dispersión de la muestra C2 es 1.7787\n",
      "La dispersión de la muestra C3 es 3.5707\n",
      "\n",
      "b3 = 5 (criterio aceptable)\n",
      "La dispersión de la muestra C1 es 5.704\n",
      "La dispersión de la muestra C2 es 1.7787\n",
      "La dispersión de la muestra C3 es 4.2665\n"
     ]
    }
   ],
   "source": [
    "#d)\n",
    "\n",
    "#Defino las funciones varianza_muestral y desviacion_muestral modificadas\n",
    "def varianza_muestral(b, datos):\n",
    "    n = len(datos)\n",
    "    suma = 0.0\n",
    "    for dato in datos:\n",
    "        suma += (dato-b)**2\n",
    "    return suma/(n-1)\n",
    "\n",
    "def desviacion_muestral(b, datos):\n",
    "    return varianza_muestral(b, datos)**(0.5)\n",
    "\n",
    "#b1 = media_muestral\n",
    "b1_C1 = round(float(desviacion_muestral(mediaC1, muestraC1[0])),4)\n",
    "b1_C2 = round(float(desviacion_muestral(mediaC2, muestraC2[0])),4)\n",
    "b1_C3 = round(float(desviacion_muestral(mediaC3, muestraC3[0])),4)\n",
    "\n",
    "#b2 = mediana_muestral\n",
    "b2_C1 = round(float(desviacion_muestral(medianaC1, muestraC1[0])),4)\n",
    "b2_C2 = round(float(desviacion_muestral(medianaC2, muestraC2[0])),4)\n",
    "b2_C3 = round(float(desviacion_muestral(medianaC3, muestraC3[0])),4)\n",
    "\n",
    "#b3 = 5 (criterio aceptable)\n",
    "b3_C1 = round(float(desviacion_muestral(5, muestraC1[0])),4)\n",
    "b3_C2 = round(float(desviacion_muestral(5, muestraC2[0])),4)\n",
    "b3_C3 = round(float(desviacion_muestral(5, muestraC3[0])),4)\n",
    "\n",
    "\n",
    "print(\"b1 = media_muestral\")\n",
    "print(f\"La dispersión de la muestra C1 es {b1_C1}\")\n",
    "print(f\"La dispersión de la muestra C2 es {b1_C2}\")\n",
    "print(f\"La dispersión de la muestra C3 es {b1_C3}\\n\")\n",
    "\n",
    "print(\"b2 = mediana_muestral\")\n",
    "print(f\"La dispersión de la muestra C1 es {b2_C1}\")\n",
    "print(f\"La dispersión de la muestra C2 es {b2_C2}\")\n",
    "print(f\"La dispersión de la muestra C3 es {b2_C3}\\n\")\n",
    "\n",
    "print(\"b3 = 5 (criterio aceptable)\")\n",
    "print(f\"La dispersión de la muestra C1 es {b3_C1}\")\n",
    "print(f\"La dispersión de la muestra C2 es {b3_C2}\")\n",
    "print(f\"La dispersión de la muestra C3 es {b3_C3}\")\n",
    "\n",
    "\n",
    "#¿Qué indica lo observado? Compare con lo analizado en c)\n",
    "#La información presentada complementa lo observado en los boxplots, ya que la dispersión en C2 resulta ser la menor en los 3 casos, y se debe\n",
    "#principalmente a la distribución centrada de sus valores, en comparación con C1 y C3. Bajo esa misma línea, C1 obtuvo la mayor dispersión, lo que significa que\n",
    "#no hay una buena distribución, al tener datos muy alejados entre sí. Para C3, los resultados no son tan bajos como en C2, pero no alcanzan los niveles de C1,\n",
    "#lo que se traduce en resultados más alejados unos de otros en cuanto a desempeño, pero no tan alejados como los obtenidos bajo la primera condición"
   ]
  },
  {
   "cell_type": "code",
   "execution_count": 5,
   "metadata": {},
   "outputs": [],
   "source": [
    "#e) \n",
    "#En base a todo lo señalado anteriormente, recomendaría la condición número 3, ya que presenta buena distribución de los datos, tanto los mejores resultados como los más\n",
    "#bajos en esa condición están sobre lo aceptable y su caja presenta una diferencia más significativa con respecto a C2 y C1"
   ]
  },
  {
   "cell_type": "code",
   "execution_count": 6,
   "metadata": {},
   "outputs": [
    {
     "data": {
      "image/png": "[encoded data removed]",
      "text/plain": [
       "<Figure size 432x288 with 1 Axes>"
      ]
     },
     "metadata": {
      "needs_background": "light"
     },
     "output_type": "display_data"
    }
   ],
   "source": [
    "#f)\n",
    "\n",
    "#Importo las librerias necesarias\n",
    "from math import ceil, sqrt, log2\n",
    "\n",
    "#Calculo lo solicitado\n",
    "N3 = muestraC3.shape[0]\n",
    "\n",
    "#Muestra C3\n",
    "#K1 = Raíz cuadrada\n",
    "plt.hist(muestraC3[0], bins=ceil(sqrt(N3)), alpha=0.5, label=\"Raíz cuadrada\", color='b')\n",
    "#K2 = Sturges\n",
    "plt.hist(muestraC3[0], bins=ceil(log2(N3))+1, alpha=0.3, label=\"Sturges\", color='r')\n",
    "\n",
    "plt.legend()\n",
    "plt.show()"
   ]
  },
  {
   "cell_type": "code",
   "execution_count": 7,
   "metadata": {},
   "outputs": [],
   "source": [
    "#g)\n",
    "#Significa que a una cantidad de pruebas menores los resultados son aceptables, pero luego de ese límite el desempeño difiere notablemente, lo que no da certeza\n",
    "#de ser una condición segura. Sus medidas de tendencia bajarán y pasará a tener un desempeño inaceptable, por lo que el análisis realizado actualmente no\n",
    "#tendrá sentido\n",
    "\n",
    "\n",
    "\n",
    "\n",
    "\n"
   ]
  }
 ],
 "metadata": {
  "colab": {
   "collapsed_sections": [],
   "name": "[INF-280]T1-Evaluación.ipynb",
   "provenance": []
  },
  "kernelspec": {
   "display_name": "Python 3",
   "language": "python",
   "name": "python3"
  },
  "language_info": {
   "codemirror_mode": {
    "name": "ipython",
    "version": 3
   },
   "file_extension": ".py",
   "mimetype": "text/x-python",
   "name": "python",
   "nbconvert_exporter": "python",
   "pygments_lexer": "ipython3",
   "version": "3.8.3"
  },
  "widgets": {
   "application/vnd.jupyter.widget-state+json": {
    "33c25ae5bd414573b2a9c277df1b5e86": {
     "model_module": "@jupyter-widgets/controls",
     "model_name": "IntSliderModel",
     "state": {
      "_dom_classes": [],
      "_model_module": "@jupyter-widgets/controls",
      "_model_module_version": "1.5.0",
      "_model_name": "IntSliderModel",
      "_view_count": null,
      "_view_module": "@jupyter-widgets/controls",
      "_view_module_version": "1.5.0",
      "_view_name": "IntSliderView",
      "continuous_update": true,
      "description": "K",
      "description_tooltip": null,
      "disabled": false,
      "layout": "IPY_MODEL_b38b78e9fe8448f7aef9befa1dac52a4",
      "max": 200,
      "min": 1,
      "orientation": "horizontal",
      "readout": true,
      "readout_format": "d",
      "step": 1,
      "style": "IPY_MODEL_b6d1069bac3b4ffe9178de650b19a269",
      "value": 100
     }
    },
    "5cf973270d8b4134b34b11326857ae81": {
     "model_module": "@jupyter-widgets/base",
     "model_name": "LayoutModel",
     "state": {
      "_model_module": "@jupyter-widgets/base",
      "_model_module_version": "1.2.0",
      "_model_name": "LayoutModel",
      "_view_count": null,
      "_view_module": "@jupyter-widgets/base",
      "_view_module_version": "1.2.0",
      "_view_name": "LayoutView",
      "align_content": null,
      "align_items": null,
      "align_self": null,
      "border": null,
      "bottom": null,
      "display": null,
      "flex": null,
      "flex_flow": null,
      "grid_area": null,
      "grid_auto_columns": null,
      "grid_auto_flow": null,
      "grid_auto_rows": null,
      "grid_column": null,
      "grid_gap": null,
      "grid_row": null,
      "grid_template_areas": null,
      "grid_template_columns": null,
      "grid_template_rows": null,
      "height": null,
      "justify_content": null,
      "justify_items": null,
      "left": null,
      "margin": null,
      "max_height": null,
      "max_width": null,
      "min_height": null,
      "min_width": null,
      "object_fit": null,
      "object_position": null,
      "order": null,
      "overflow": null,
      "overflow_x": null,
      "overflow_y": null,
      "padding": null,
      "right": null,
      "top": null,
      "visibility": null,
      "width": null
     }
    },
    "6239cc9e4a3f475f9595b39442951e81": {
     "model_module": "@jupyter-widgets/output",
     "model_name": "OutputModel",
     "state": {
      "_dom_classes": [],
      "_model_module": "@jupyter-widgets/output",
      "_model_module_version": "1.0.0",
      "_model_name": "OutputModel",
      "_view_count": null,
      "_view_module": "@jupyter-widgets/output",
      "_view_module_version": "1.0.0",
      "_view_name": "OutputView",
      "layout": "IPY_MODEL_9423856503ce4119a68301f452defed5",
      "msg_id": "",
      "outputs": [
       {
        "image/png": "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\n",
        "metadata": {
         "needs_background": "light",
         "tags": []
        },
        "output_type": "display_data",
        "text/plain": "<Figure size 432x288 with 1 Axes>"
       }
      ]
     }
    },
    "9423856503ce4119a68301f452defed5": {
     "model_module": "@jupyter-widgets/base",
     "model_name": "LayoutModel",
     "state": {
      "_model_module": "@jupyter-widgets/base",
      "_model_module_version": "1.2.0",
      "_model_name": "LayoutModel",
      "_view_count": null,
      "_view_module": "@jupyter-widgets/base",
      "_view_module_version": "1.2.0",
      "_view_name": "LayoutView",
      "align_content": null,
      "align_items": null,
      "align_self": null,
      "border": null,
      "bottom": null,
      "display": null,
      "flex": null,
      "flex_flow": null,
      "grid_area": null,
      "grid_auto_columns": null,
      "grid_auto_flow": null,
      "grid_auto_rows": null,
      "grid_column": null,
      "grid_gap": null,
      "grid_row": null,
      "grid_template_areas": null,
      "grid_template_columns": null,
      "grid_template_rows": null,
      "height": null,
      "justify_content": null,
      "justify_items": null,
      "left": null,
      "margin": null,
      "max_height": null,
      "max_width": null,
      "min_height": null,
      "min_width": null,
      "object_fit": null,
      "object_position": null,
      "order": null,
      "overflow": null,
      "overflow_x": null,
      "overflow_y": null,
      "padding": null,
      "right": null,
      "top": null,
      "visibility": null,
      "width": null
     }
    },
    "a663ca76a9e340dcbab01827a8ff4ae5": {
     "model_module": "@jupyter-widgets/controls",
     "model_name": "VBoxModel",
     "state": {
      "_dom_classes": [
       "widget-interact"
      ],
      "_model_module": "@jupyter-widgets/controls",
      "_model_module_version": "1.5.0",
      "_model_name": "VBoxModel",
      "_view_count": null,
      "_view_module": "@jupyter-widgets/controls",
      "_view_module_version": "1.5.0",
      "_view_name": "VBoxView",
      "box_style": "",
      "children": [
       "IPY_MODEL_33c25ae5bd414573b2a9c277df1b5e86",
       "IPY_MODEL_6239cc9e4a3f475f9595b39442951e81"
      ],
      "layout": "IPY_MODEL_5cf973270d8b4134b34b11326857ae81"
     }
    },
    "b38b78e9fe8448f7aef9befa1dac52a4": {
     "model_module": "@jupyter-widgets/base",
     "model_name": "LayoutModel",
     "state": {
      "_model_module": "@jupyter-widgets/base",
      "_model_module_version": "1.2.0",
      "_model_name": "LayoutModel",
      "_view_count": null,
      "_view_module": "@jupyter-widgets/base",
      "_view_module_version": "1.2.0",
      "_view_name": "LayoutView",
      "align_content": null,
      "align_items": null,
      "align_self": null,
      "border": null,
      "bottom": null,
      "display": null,
      "flex": null,
      "flex_flow": null,
      "grid_area": null,
      "grid_auto_columns": null,
      "grid_auto_flow": null,
      "grid_auto_rows": null,
      "grid_column": null,
      "grid_gap": null,
      "grid_row": null,
      "grid_template_areas": null,
      "grid_template_columns": null,
      "grid_template_rows": null,
      "height": null,
      "justify_content": null,
      "justify_items": null,
      "left": null,
      "margin": null,
      "max_height": null,
      "max_width": null,
      "min_height": null,
      "min_width": null,
      "object_fit": null,
      "object_position": null,
      "order": null,
      "overflow": null,
      "overflow_x": null,
      "overflow_y": null,
      "padding": null,
      "right": null,
      "top": null,
      "visibility": null,
      "width": null
     }
    },
    "b6d1069bac3b4ffe9178de650b19a269": {
     "model_module": "@jupyter-widgets/controls",
     "model_name": "SliderStyleModel",
     "state": {
      "_model_module": "@jupyter-widgets/controls",
      "_model_module_version": "1.5.0",
      "_model_name": "SliderStyleModel",
      "_view_count": null,
      "_view_module": "@jupyter-widgets/base",
      "_view_module_version": "1.2.0",
      "_view_name": "StyleView",
      "description_width": "",
      "handle_color": null
     }
    }
   }
  }
 },
 "nbformat": 4,
 "nbformat_minor": 1
}
